{
 "cells": [
  {
   "cell_type": "code",
   "execution_count": 1,
   "metadata": {},
   "outputs": [],
   "source": [
    "import nltk\n",
    "import numpy as np\n",
    "import random\n",
    "import string # to process standard python strings\n",
    "from sklearn.feature_extraction.text import TfidfVectorizer\n",
    "from sklearn.metrics.pairwise import cosine_similarity\n",
    "import warnings\n",
    "warnings.filterwarnings(\"ignore\")"
   ]
  },
  {
   "cell_type": "code",
   "execution_count": 2,
   "metadata": {},
   "outputs": [
    {
     "name": "stderr",
     "output_type": "stream",
     "text": [
      "[nltk_data] Downloading package punkt to /Users/jeeva/nltk_data...\n",
      "[nltk_data]   Package punkt is already up-to-date!\n",
      "[nltk_data] Downloading package wordnet to /Users/jeeva/nltk_data...\n",
      "[nltk_data]   Package wordnet is already up-to-date!\n"
     ]
    }
   ],
   "source": [
    "f=open('covid.txt','r',errors = 'ignore')\n",
    "raw=f.read()\n",
    "raw=raw.lower()# converts to lowercase\n",
    "nltk.download('punkt') # first-time use only\n",
    "nltk.download('wordnet') # first-time use only\n",
    "sent_tokens = nltk.sent_tokenize(raw)# converts to list of sentences \n",
    "word_tokens = nltk.word_tokenize(raw)# converts to list of words"
   ]
  },
  {
   "cell_type": "code",
   "execution_count": 3,
   "metadata": {},
   "outputs": [],
   "source": [
    "lemmer = nltk.stem.WordNetLemmatizer()\n",
    "#WordNet is a semantically-oriented dictionary of English included in NLTK.\n",
    "def LemTokens(tokens):\n",
    "    return [lemmer.lemmatize(token) for token in tokens]\n",
    "remove_punct_dict = dict((ord(punct), None) for punct in string.punctuation)\n",
    "def LemNormalize(text):\n",
    "    return LemTokens(nltk.word_tokenize(text.lower().translate(remove_punct_dict)))"
   ]
  },
  {
   "cell_type": "code",
   "execution_count": 4,
   "metadata": {},
   "outputs": [],
   "source": [
    "GREETING_INPUTS = (\"hello\", \"hi\", \"greetings\", \"sup\", \"what's up\",\"hey\",)\n",
    "GREETING_RESPONSES = [\"hi\", \"hey\", \"hi there\", \"hello\", \"I am glad! You are talking to me\"]\n",
    "def greeting(sentence):\n",
    " \n",
    "    for word in sentence.split():\n",
    "        if word.lower() in GREETING_INPUTS:\n",
    "            return random.choice(GREETING_RESPONSES)"
   ]
  },
  {
   "cell_type": "code",
   "execution_count": 5,
   "metadata": {},
   "outputs": [],
   "source": [
    "# Used document similarity to generate response\n",
    "\n",
    "def response(user_response):\n",
    "    robo_response=''\n",
    "    sent_tokens.append(user_response)\n",
    "    TfidfVec = TfidfVectorizer(tokenizer=LemNormalize, stop_words='english')\n",
    "    tfidf = TfidfVec.fit_transform(sent_tokens)\n",
    "    vals = cosine_similarity(tfidf[-1], tfidf)\n",
    "    idx=vals.argsort()[0][-2]\n",
    "    flat = vals.flatten()\n",
    "    flat.sort()\n",
    "    req_tfidf = flat[-2]\n",
    "    if(req_tfidf==0):\n",
    "        robo_response=robo_response+\"I am sorry! I don't understand you. Want to try something else?\"\n",
    "        return robo_response\n",
    "    else:\n",
    "        robo_response = robo_response+sent_tokens[idx]\n",
    "        return robo_response"
   ]
  },
  {
   "cell_type": "code",
   "execution_count": 7,
   "metadata": {
    "scrolled": false
   },
   "outputs": [
    {
     "name": "stdout",
     "output_type": "stream",
     "text": [
      "Are you experiencing any of these symptoms?\n",
      " 1. Fever or sweating \n",
      " 2. Difficulty breathing \n",
      " 3. Prolonged Cough \n",
      " 4. Sore throat \n",
      " 5. Body ache \n",
      " 6. Vomiting and Diarrhea\n",
      "how to know if i am positive\n",
      "Med-ROBO: only after testing can we conclude if they are positive.\n",
      "6\n",
      "Med-ROBO: No need to worry. Take Home Remedies. Stay Home.. take care..\n",
      "\n",
      "Med-ROBO: Any more queries on COVID-19, please ask me\n",
      "infection\n",
      "but we treat them with utmost precaution, anticipating that they might have the infection,” she said.\n",
      "3\n",
      "Med-ROBO: Have you travelled internationally in last 14 days? Yes or No\n",
      "covid\n",
      "Take general tablets, wait for some more days. If symptoms continue, Contact Doctor\n",
      "2\n",
      "Med-ROBO: Any more queries on COVID-19, please ask me\n",
      "Med-ROBO: I am sorry! I don't understand you. Want to try something else?\n",
      "1\n",
      "Med-ROBO: Have you travelled internationally in last 14 days? Yes or No\n",
      "yes\n",
      "Med-ROBO: Consult Doctor Immediately..CORONA (COVID 19) HELPLINE: 011-23978046 OR 1075\n"
     ]
    }
   ],
   "source": [
    "flag=True\n",
    "print(\"Are you experiencing any of these symptoms?\")\n",
    "print(\" 1. Fever or sweating \\n 2. Difficulty breathing \\n 3. Prolonged Cough \\n 4. Sore throat \\n 5. Body ache \\n 6. Vomiting and Diarrhea\")\n",
    "while(flag==True):\n",
    "    user_response = input()\n",
    "    #user_response=user_response.lower()\n",
    "    if(user_response!='4' and user_response!='5' and user_response!='6'):\n",
    "        if(user_response=='1' or user_response=='2' or user_response=='3'):\n",
    "            print(\"Med-ROBO: Have you travelled internationally in last 14 days? Yes or No\")\n",
    "            user_response = input()\n",
    "            if(user_response=='yes'):\n",
    "                flag=False\n",
    "                print(\"Med-ROBO: Consult Doctor Immediately..CORONA (COVID 19) HELPLINE: 011-23978046 OR 1075\")\n",
    "            else:\n",
    "                print(\"Take general tablets, wait for some more days. If symptoms persists, Contact Doctor\")\n",
    "                print(\"Med-ROBO: Any more queries on COVID-19, please ask me\")\n",
    "                user_response = input()\n",
    "                print(\"Med-ROBO: \",end=\"\")\n",
    "                print(response(user_response))\n",
    "                sent_tokens.remove(user_response)\n",
    "        else:\n",
    "            if(greeting(user_response)!=None):\n",
    "                print(\"Med-ROBO: \"+greeting(user_response))\n",
    "            else:\n",
    "                print(\"Med-ROBO: \",end=\"\")\n",
    "                print(response(user_response))\n",
    "                sent_tokens.remove(user_response)\n",
    "    else:\n",
    "        print(\"Med-ROBO: No need to worry. Take Home Remedies. Stay Home.. take care..\\n\")\n",
    "        print(\"Med-ROBO: Any more queries on COVID-19, please ask me\")\n",
    "        user_response = input()\n",
    "        print(response(user_response))\n",
    "        sent_tokens.remove(user_response)"
   ]
  },
  {
   "cell_type": "code",
   "execution_count": null,
   "metadata": {},
   "outputs": [],
   "source": []
  },
  {
   "cell_type": "code",
   "execution_count": null,
   "metadata": {},
   "outputs": [],
   "source": []
  },
  {
   "cell_type": "code",
   "execution_count": null,
   "metadata": {},
   "outputs": [],
   "source": []
  }
 ],
 "metadata": {
  "kernelspec": {
   "display_name": "Python 3",
   "language": "python",
   "name": "python3"
  },
  "language_info": {
   "codemirror_mode": {
    "name": "ipython",
    "version": 3
   },
   "file_extension": ".py",
   "mimetype": "text/x-python",
   "name": "python",
   "nbconvert_exporter": "python",
   "pygments_lexer": "ipython3",
   "version": "3.7.4"
  }
 },
 "nbformat": 4,
 "nbformat_minor": 2
}
